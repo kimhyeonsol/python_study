{
 "cells": [
  {
   "cell_type": "markdown",
   "metadata": {},
   "source": [
    "# 10. dictionary\n",
    "- 키와 값을 갖는 데이터 구조\n",
    "- 키는 내부적으로 hash값으로 저장\n",
    "- 순서를 따지지 않음. 즉, 인덱스가 없음\n",
    "- 키값을 알면 바로 접근 가능하여 시간 절약가능"
   ]
  },
  {
   "cell_type": "code",
   "execution_count": null,
   "metadata": {},
   "outputs": [],
   "source": [
    "a=[0,1,2,3,4,10, 100, 200,300]\n",
    "print(a[0])\n",
    "print(a[4])"
   ]
  },
  {
   "cell_type": "code",
   "execution_count": null,
   "metadata": {},
   "outputs": [],
   "source": [
    "a={'Korea': 'Seoul',\n",
    "  'Canada': 'Ottawa',\n",
    "  'USA':'Washington D.C'}\n",
    "print(a)\n",
    "print(a['Korea'])"
   ]
  },
  {
   "cell_type": "code",
   "execution_count": null,
   "metadata": {},
   "outputs": [],
   "source": [
    "b={0:1,1:6,7:9,8:10}\n",
    "print(b[7])#이때 7은 인덱스가 아닌 키값임\n"
   ]
  },
  {
   "cell_type": "code",
   "execution_count": null,
   "metadata": {},
   "outputs": [],
   "source": [
    "a['Japan']='Tokyo'\n",
    "print(a)"
   ]
  },
  {
   "cell_type": "markdown",
   "metadata": {},
   "source": [
    "## -update()\n",
    "\n",
    " - 두 딕셔너리를 병합함\n",
    " - 겹치는 키가 있다면 parameter로 전달되는 키 값이 overwrite된다.\n",
    "    "
   ]
  },
  {
   "cell_type": "code",
   "execution_count": null,
   "metadata": {},
   "outputs": [],
   "source": [
    "a={'a':1,'b':2,'c':3}\n",
    "b={'a':2,'d':4,'e':5}\n",
    "\n",
    "a.update(b)\n",
    "print(a)"
   ]
  },
  {
   "cell_type": "markdown",
   "metadata": {},
   "source": [
    "## -key삭제\n",
    "- del 키워드 사용(위에서 쓴 변수 아예 삭제할 때도 쓰임)\n",
    "- pop 함수 이용"
   ]
  },
  {
   "cell_type": "code",
   "execution_count": null,
   "metadata": {
    "scrolled": true
   },
   "outputs": [],
   "source": [
    "a={'a':1,'b':2,'c':3}\n",
    "print(a)\n",
    "\n",
    "#a.pop('b')\n",
    "del a['b']\n",
    "print(a)"
   ]
  },
  {
   "cell_type": "markdown",
   "metadata": {},
   "source": [
    "## -clear()\n",
    "- 딕셔너리의 모든 값을 초기화"
   ]
  },
  {
   "cell_type": "code",
   "execution_count": null,
   "metadata": {},
   "outputs": [],
   "source": [
    "print(a)\n",
    "a.clear()\n",
    "print(a)"
   ]
  },
  {
   "cell_type": "markdown",
   "metadata": {},
   "source": [
    "## -in 굉장히 중요\n",
    "- key값 존재 확인\n",
    "- O(1) 연산- 딕셔너리의 크기와 관계없이 항상 연산의 속도가 일정하다는 의미"
   ]
  },
  {
   "cell_type": "code",
   "execution_count": null,
   "metadata": {},
   "outputs": [],
   "source": [
    "a={'a':1,'b':2,'c':3}\n",
    "b=[1,2,3,4,5,6,7,8,9,10, 100]\n",
    "\n",
    "print(100 in b)\n",
    "#리스트의 in키워드는 리스트 안의 원소 갯수에 따라 성능 저하가 초래됨\n",
    "\n",
    "print('b' in a) \n",
    "#dict에서는 성능 저하 초래 안됨\n"
   ]
  },
  {
   "cell_type": "markdown",
   "metadata": {},
   "source": [
    "## -value access\n",
    "- dict[key]로 접근, 키가 없는 경우 에러 발생\n",
    "- .get() 함수로 접근, 키가 없는 경우 None 반환"
   ]
  },
  {
   "cell_type": "code",
   "execution_count": null,
   "metadata": {},
   "outputs": [],
   "source": [
    "print(a.get('d'))#프로그램 죽지 않음\n",
    "\n",
    "#print(a['d'])\n",
    "#d값 없어서 에러 발생\n",
    "\n",
    "if 'd' in a:\n",
    "    print(a['d'])"
   ]
  },
  {
   "cell_type": "markdown",
   "metadata": {},
   "source": [
    "## -모든 keys,values 접근\n",
    "- keys() - 키만 반환\n",
    "- values() - 값만 반환\n",
    "- items() - 키, 값의 튜플을 반환\n"
   ]
  },
  {
   "cell_type": "code",
   "execution_count": null,
   "metadata": {},
   "outputs": [],
   "source": [
    "print(a)\n",
    "\n",
    "print(a.keys())\n",
    "print(a.values())\n",
    "print(a.items())\n",
    "\n",
    "#list로 변환하여 사용 가능\n",
    "print (list(a.keys()))\n",
    "print (list(a.values()))\n",
    "print(list(a.items()))\n"
   ]
  },
  {
   "cell_type": "markdown",
   "metadata": {},
   "source": [
    "***\n",
    "\n",
    "\n",
    "\n"
   ]
  },
  {
   "cell_type": "markdown",
   "metadata": {},
   "source": [
    "# 11. set\n",
    "- dictionary에서 key만 활용하는 데이터 구조로 이해\n",
    "- 수학에서의 집합과 동일한 개념\n",
    "- 중복 허용 안됨\n",
    "- 중괄호"
   ]
  },
  {
   "cell_type": "markdown",
   "metadata": {},
   "source": [
    "## -set()으로 집합으로 변환"
   ]
  },
  {
   "cell_type": "code",
   "execution_count": null,
   "metadata": {},
   "outputs": [],
   "source": [
    "a=[1,1,2,3,3,4,1,5] #a는 리스트\n",
    "print(a)\n",
    "\n",
    "b=set(a) #집합으로 변환 후 b에 넣기\n",
    "print(b)\n"
   ]
  },
  {
   "cell_type": "markdown",
   "metadata": {},
   "source": [
    "## -set operation\n",
    "- 수학 연산과 동일\n",
    "- 교집합, 합집합, 차집합 등 지원"
   ]
  },
  {
   "cell_type": "code",
   "execution_count": null,
   "metadata": {},
   "outputs": [],
   "source": [
    "a= {1,2,3}\n",
    "b={2,3,4}\n",
    "\n",
    "print(a.union(b)) #합집합\n",
    "print(a.intersection(b)) #교집합\n",
    "print(a.difference(b)) #차집합\n",
    "print(a.issubset(b))# 부분집합"
   ]
  },
  {
   "cell_type": "markdown",
   "metadata": {},
   "source": [
    "***"
   ]
  },
  {
   "cell_type": "markdown",
   "metadata": {},
   "source": [
    "# 12/13. 조건문\n",
    "- if, elif, else"
   ]
  },
  {
   "cell_type": "code",
   "execution_count": null,
   "metadata": {},
   "outputs": [],
   "source": [
    "if 6>=5:\n",
    "    print('6 is greater than 5')\n",
    "    print('Yeah, it is true')\n",
    "print('This code, is not belong to if statements')"
   ]
  },
  {
   "cell_type": "code",
   "execution_count": null,
   "metadata": {},
   "outputs": [],
   "source": [
    "if 6==5:\n",
    "    print('6 is greater than 5')\n",
    "    print('Yeah, it is true')\n",
    "print('This code, is not belong to if statements')"
   ]
  },
  {
   "cell_type": "markdown",
   "metadata": {},
   "source": [
    "## -Logical AND, OR, NOT\n",
    "- 조건문에 사용되는 조건의 경우, boolean이기 때문에, 논리식 AND,OR,NOT이 사용 가능\n",
    "- 우선순위\n",
    "    - not>and>or"
   ]
  },
  {
   "cell_type": "code",
   "execution_count": null,
   "metadata": {},
   "outputs": [],
   "source": [
    "a=10\n",
    "b=8\n",
    "c=11"
   ]
  },
  {
   "cell_type": "code",
   "execution_count": null,
   "metadata": {},
   "outputs": [],
   "source": [
    "if a==10 and b==9:\n",
    "    print('that is true')"
   ]
  },
  {
   "cell_type": "code",
   "execution_count": null,
   "metadata": {},
   "outputs": [],
   "source": [
    "if a==10 or b==9 and c==12: #and 부터 수행\n",
    "    print('that is true')"
   ]
  },
  {
   "cell_type": "code",
   "execution_count": null,
   "metadata": {},
   "outputs": [],
   "source": [
    "if (a==10 or b==9) and c==12: #or 부터 수행\n",
    "    print('that is true')"
   ]
  },
  {
   "cell_type": "code",
   "execution_count": null,
   "metadata": {},
   "outputs": [],
   "source": [
    "if not a!=10 :\n",
    "    print('that is true')"
   ]
  },
  {
   "cell_type": "markdown",
   "metadata": {},
   "source": [
    "## -if의 조건이 bool이 아닌 경우\n",
    "- 일반적으로는 조건문에는 bool 이 주로 위치 함\n",
    "- 하지만, 정수, 실수, 문자열 리스트 등 기본 타입도 조건에 사용 가능\n",
    "- False로 간주되는 값(각 타입의 기본값)\n",
    "    - None\n",
    "    - 0\n",
    "    - 0.0\n",
    "    - ''\n",
    "    - []->빈 리스트\n",
    "    - ()-> 빈 튜플\n",
    "    - {}-> 빈 딕셔너리\n",
    "    - set() -> 빈 집합\n",
    "- 그 밖에는 모두 True로 간주"
   ]
  },
  {
   "cell_type": "code",
   "execution_count": null,
   "metadata": {},
   "outputs": [],
   "source": [
    "a=10\n",
    "if a%2==0:#짝수인지 판별\n",
    "    print(a/2)\n",
    "else:\n",
    "    print(a+1)"
   ]
  },
  {
   "cell_type": "code",
   "execution_count": null,
   "metadata": {},
   "outputs": [],
   "source": [
    "a=10\n",
    "b=9\n",
    "c=8\n",
    "\n",
    "if a==10:\n",
    "    if b==8:\n",
    "        print(1)\n",
    "    else: \n",
    "        print(2)"
   ]
  },
  {
   "cell_type": "markdown",
   "metadata": {},
   "source": [
    "***"
   ]
  },
  {
   "cell_type": "markdown",
   "metadata": {},
   "source": [
    "# 14/15/16. 반복문"
   ]
  },
  {
   "cell_type": "markdown",
   "metadata": {},
   "source": [
    "## -while 반복문"
   ]
  },
  {
   "cell_type": "markdown",
   "metadata": {},
   "source": [
    "### while 키워드 이용하여 리스트의 아이템 출력하기"
   ]
  },
  {
   "cell_type": "code",
   "execution_count": null,
   "metadata": {},
   "outputs": [],
   "source": [
    "a=[1,10,9,24,1,2,3,4,5,56]\n",
    "\n",
    "i=0\n",
    "while i<len(a):\n",
    "    print(a[i])\n",
    "    i += 1\n"
   ]
  },
  {
   "cell_type": "markdown",
   "metadata": {},
   "source": [
    "### 무한 루프(되도록 쓰지 말기)"
   ]
  },
  {
   "cell_type": "code",
   "execution_count": null,
   "metadata": {},
   "outputs": [],
   "source": [
    "while True:\n",
    "    print('haha')"
   ]
  },
  {
   "cell_type": "markdown",
   "metadata": {},
   "source": [
    "### 1-100까지 더하기"
   ]
  },
  {
   "cell_type": "code",
   "execution_count": null,
   "metadata": {},
   "outputs": [],
   "source": [
    "num=1\n",
    "_sum=0\n",
    "\n",
    "while num<=100:\n",
    "    _sum+=num\n",
    "    num+=1\n",
    "print(_sum)"
   ]
  },
  {
   "cell_type": "markdown",
   "metadata": {},
   "source": [
    "## -for 반복문\n"
   ]
  },
  {
   "cell_type": "code",
   "execution_count": null,
   "metadata": {},
   "outputs": [],
   "source": [
    "a=[1,2,4,3,5]\n",
    "for i in a:\n",
    "    print(i,i*2)"
   ]
  },
  {
   "cell_type": "markdown",
   "metadata": {},
   "source": [
    "### 문자열의 아이템 출력하기\n",
    "- 문자열의 경우 순회 가능, 리스트와 유사하게 순회가능"
   ]
  },
  {
   "cell_type": "code",
   "execution_count": null,
   "metadata": {},
   "outputs": [],
   "source": [
    "a='hello world'\n",
    "for c in a:\n",
    "    print(c)"
   ]
  },
  {
   "cell_type": "markdown",
   "metadata": {},
   "source": [
    "### 리스트 아이템 출력하기"
   ]
  },
  {
   "cell_type": "code",
   "execution_count": null,
   "metadata": {},
   "outputs": [],
   "source": [
    "a=[1,2,3,4,5]\n",
    "for i in a:\n",
    "    if(i%2==0):\n",
    "        print(i)"
   ]
  },
  {
   "cell_type": "markdown",
   "metadata": {},
   "source": [
    "### dict 의 아이템 출력하기\n",
    "- dict의 경우 기본적으로 순회하게 되면 key값을 참조"
   ]
  },
  {
   "cell_type": "code",
   "execution_count": null,
   "metadata": {},
   "outputs": [],
   "source": [
    "a={'korea':'seoul','japan': 'tokyo'}\n",
    "for k in a:\n",
    "    print(k)\n",
    "for k in a.keys():\n",
    "    print(k)\n",
    "for v in a.values():\n",
    "    print(v)\n",
    "    \n",
    "for i in a.items():\n",
    "    print(i)\n",
    " #튜플 사용해서 값 각각 받아오기\n",
    "for k,v in a.items():\n",
    "    print(k,v)\n",
    "    "
   ]
  },
  {
   "cell_type": "markdown",
   "metadata": {},
   "source": [
    " ### for 에서 index 사용하기\n",
    " - 기본적으로 for에 리스트를 순회하는 경우, 값만 추출함\n",
    " - 아래와 같은 코드로 인덱스와 값 모두 가능(enumerate 함수 이용)"
   ]
  },
  {
   "cell_type": "code",
   "execution_count": null,
   "metadata": {},
   "outputs": [],
   "source": [
    "a=[1,2,4,3,5]\n",
    "\n",
    "for index, num in enumerate(a):\n",
    "    if index>3:\n",
    "        print(index, num)"
   ]
  },
  {
   "cell_type": "markdown",
   "metadata": {},
   "source": [
    "### 구구단 출력하기"
   ]
  },
  {
   "cell_type": "code",
   "execution_count": null,
   "metadata": {},
   "outputs": [],
   "source": [
    "x=[2,3,4,5,6,7,8,9]\n",
    "y=[1,2,3,4,5,6,7,8,9]\n",
    "\n",
    "for i in x:\n",
    "    for j in y:\n",
    "        print(i,'x',j,'=',i*j)\n",
    "        "
   ]
  },
  {
   "cell_type": "markdown",
   "metadata": {},
   "source": [
    "### collection의 길이\n",
    "- len() 내장함수로 계산 가능\n",
    "- 내장함수란 파이썬 내부에 구현되어 있어서, import하지 않고도 사용 가능한 함수를 의미\n",
    "- abs, len, type, range 등이 있음"
   ]
  },
  {
   "cell_type": "code",
   "execution_count": null,
   "metadata": {},
   "outputs": [],
   "source": [
    "print(a)\n",
    "print(len(a))"
   ]
  },
  {
   "cell_type": "markdown",
   "metadata": {},
   "source": [
    "### range 함수\n",
    "- [0,정수)\n",
    "- 리스트를 쉽게 만들 수 있는 내장함수\n",
    "- 주어진 값에 따라 다양한 결과를 반환"
   ]
  },
  {
   "cell_type": "code",
   "execution_count": null,
   "metadata": {},
   "outputs": [],
   "source": [
    "list(range(10))"
   ]
  },
  {
   "cell_type": "code",
   "execution_count": null,
   "metadata": {},
   "outputs": [],
   "source": [
    "list(range(2,10))"
   ]
  },
  {
   "cell_type": "code",
   "execution_count": null,
   "metadata": {},
   "outputs": [],
   "source": [
    "list(range(2,10,3))"
   ]
  },
  {
   "cell_type": "markdown",
   "metadata": {},
   "source": [
    "#### 1부터100사이의 5의 배수만을 갖는 리스트를 생성하시오"
   ]
  },
  {
   "cell_type": "code",
   "execution_count": null,
   "metadata": {},
   "outputs": [],
   "source": [
    "list(range(5,101,5))"
   ]
  },
  {
   "cell_type": "markdown",
   "metadata": {},
   "source": [
    "***"
   ]
  },
  {
   "cell_type": "markdown",
   "metadata": {},
   "source": [
    "# 17/18. if & for 연습문제\n",
    "1. 구구단을 2-9단 까지 출력하시오.\n",
    "2. 1-100까지 정수 중 2의 배수 또는 11의 배수를 모두 출력하시오.\n",
    "3. a= [22,1,3,4,7,98,21,55,87,99,19,20,45]에서 최대값과 최소값을 찾으시오.\n",
    "4. a=[22,1,3,4,7,98,21,55,87,99,19,20,45] 에서 평균을 구하세요."
   ]
  },
  {
   "cell_type": "code",
   "execution_count": null,
   "metadata": {},
   "outputs": [],
   "source": [
    "#01\n",
    "a=list(range(2,10))\n",
    "b=list(range(1,10))\n",
    "\n",
    "for x in a:\n",
    "    print(x,'단')\n",
    "    for y in b:\n",
    "        print(x,'x',y,'=',x*y)\n",
    "    print('\\n')\n"
   ]
  },
  {
   "cell_type": "code",
   "execution_count": null,
   "metadata": {},
   "outputs": [],
   "source": [
    "#02\n",
    "a=list(range(1,101))\n",
    "for n in a:\n",
    "    if(n%2==0 or n%11==0):\n",
    "        print(n)"
   ]
  },
  {
   "cell_type": "code",
   "execution_count": null,
   "metadata": {},
   "outputs": [],
   "source": [
    "#03\n",
    "a= [22,1,3,4,7,98,21,55,87,99,19,20,45]\n",
    "min=100\n",
    "max=0\n",
    "for n in a:\n",
    "    if min>n:\n",
    "        min=n\n",
    "    if max<n:\n",
    "        max=n\n",
    "\n",
    "print(max, min)"
   ]
  },
  {
   "cell_type": "code",
   "execution_count": null,
   "metadata": {},
   "outputs": [],
   "source": [
    "#03-sort 사용\n",
    "a.sort()\n",
    "print(a[-1],a[0])\n",
    "print(a)"
   ]
  },
  {
   "cell_type": "code",
   "execution_count": null,
   "metadata": {},
   "outputs": [],
   "source": [
    "#04\n",
    "a= [22,1,3,4,7,98,21,55,87,99,19,20,45]\n",
    "sum=0\n",
    "for n in a:\n",
    "    sum+=n\n",
    "print(sum/len(a))"
   ]
  },
  {
   "cell_type": "markdown",
   "metadata": {},
   "source": [
    "***"
   ]
  },
  {
   "cell_type": "markdown",
   "metadata": {},
   "source": [
    "# 19/20/21/22. 함수\n",
    "- sum, len...\n",
    "- 정의 시 최초에 def 키워드 사용\n",
    "- :필요"
   ]
  },
  {
   "cell_type": "code",
   "execution_count": null,
   "metadata": {},
   "outputs": [],
   "source": [
    "def add(x,y):\n",
    "    n=x+y\n",
    "    return n"
   ]
  },
  {
   "cell_type": "code",
   "execution_count": null,
   "metadata": {},
   "outputs": [],
   "source": [
    "c=add(30,300)\n",
    "print(c)"
   ]
  },
  {
   "cell_type": "markdown",
   "metadata": {},
   "source": [
    "### default parameter(기본인자)\n",
    "- 함수의 파라미터에 기본 값 지정 가능\n",
    "- 파라미터를 명시하지 않을 경우, 지정된 기본 값으로 대체\n",
    "- 기본 인자는 무조건 맨 마지막에만 와야함"
   ]
  },
  {
   "cell_type": "code",
   "execution_count": null,
   "metadata": {},
   "outputs": [],
   "source": [
    "def add(x,y,z=5):\n",
    "    a=x+y+z\n",
    "    return a\n",
    "add(10,20)"
   ]
  },
  {
   "cell_type": "markdown",
   "metadata": {},
   "source": [
    "### multiple return(복수 값 반환)\n",
    "- tuple반환을 하여 복수개의 값 리턴 가능"
   ]
  },
  {
   "cell_type": "code",
   "execution_count": null,
   "metadata": {},
   "outputs": [],
   "source": [
    "def add_mul(x,y):\n",
    "    s=x+y\n",
    "    m=x*y\n",
    "    \n",
    "    return s,m\n",
    "\n",
    "c=add_mul(20,3)\n",
    "print(type(c))\n",
    "print(c)\n",
    "\n",
    "a,b=add_mul(20,3)\n",
    "print(a,',',b)"
   ]
  },
  {
   "cell_type": "markdown",
   "metadata": {},
   "source": [
    "### variable length argument(가변길이 인자)\n",
    "- 전달되는 파라미터의 개수가 고정적이지 않은 경우 사용\n",
    "- 가변길이 인자는 튜플로 인식\n",
    "- ex) print 함수, format 함수\n",
    "- 별표 한개만 변수 앞에 붙이기 -*args"
   ]
  },
  {
   "cell_type": "code",
   "execution_count": null,
   "metadata": {},
   "outputs": [],
   "source": [
    "def test(*x):\n",
    "    for item in x:\n",
    "        print(item)\n",
    "    print(type(x))\n",
    "\n",
    "test(10,20,30,'d')\n",
    "    "
   ]
  },
  {
   "cell_type": "markdown",
   "metadata": {},
   "source": [
    "### keyword parameter(키워드 파라미터)\n",
    "- 별표 두개\n",
    "- dict으로 인식\n",
    "- *kwargs"
   ]
  },
  {
   "cell_type": "code",
   "execution_count": null,
   "metadata": {},
   "outputs": [],
   "source": [
    "def test2(**x):\n",
    "    for key,value in x.items():\n",
    "        print('key:',key,',value',value)\n",
    "    \n",
    "\n",
    "test2(a=1,b=2,c=3,d=4)"
   ]
  },
  {
   "cell_type": "markdown",
   "metadata": {},
   "source": [
    "#### 가변길이 함수의 대표적인 예 문자열 포맷 함수\n",
    "    - 여러가지 값과 포맷을 이용하여 문자열을 정의할 수 있는 함수\n",
    "    - {} placeholder를 문자열 내에 위치시킨 후, 해당 위치에 format 함수로 전달된 값으로 대체하여 문자열 생성\n",
    " "
   ]
  },
  {
   "cell_type": "code",
   "execution_count": null,
   "metadata": {},
   "outputs": [],
   "source": [
    "a='오늘 온도: {today_temp}도, 강수확률은: {today_prob}%, 내일 온도:{tomorrow_temp}도'.format(today_temp=0,today_prob=10,tomorrow_temp=-1)\n",
    "print(a)"
   ]
  },
  {
   "cell_type": "markdown",
   "metadata": {},
   "source": [
    "### 람다함수\n",
    "- 단일문으로 표현되는 익명함수\n",
    "- 익명함수란 이름이 없는 구현체만 존재하는 간단한 함수를 의미\n",
    "- 코드 상에서 한 번만 사용되는 기능이 있을 때, 굳이 함수로 만들지 않고 1회성으로 만들어서 쓸 때 사용.\n",
    "\n",
    "- return 안씀"
   ]
  },
  {
   "cell_type": "code",
   "execution_count": null,
   "metadata": {},
   "outputs": [],
   "source": [
    "square=lambda x: x**2 # 함수와 다를 바 없음\n",
    "square(5)\n",
    " "
   ]
  },
  {
   "cell_type": "code",
   "execution_count": null,
   "metadata": {},
   "outputs": [],
   "source": [
    "def add(x,y):\n",
    "    return x+y\n",
    "add2= lambda x,y: x+y\n",
    "add2(10,20)"
   ]
  },
  {
   "cell_type": "code",
   "execution_count": null,
   "metadata": {},
   "outputs": [],
   "source": [
    "def str_len(s):\n",
    "    return len(s)"
   ]
  },
  {
   "cell_type": "code",
   "execution_count": null,
   "metadata": {},
   "outputs": [],
   "source": [
    "strings=['bob','teddy','charles','alexander3']\n",
    "#strings.sort()\n",
    "#strings.sort(key=str_len)\n",
    "strings.sort(key=lambda a:len(a))\n",
    "print(strings)"
   ]
  },
  {
   "cell_type": "markdown",
   "metadata": {},
   "source": [
    "#### 람다함수 자주 쓰이는 함수\n",
    "#### filter, map,reduce\n",
    "- filter: 특정 조건을 만족하는 요소만 남기고 필터링\n",
    "    - filter(함수,리스트)\n",
    "- map: 각 원소를 주어진 수식에 따라 변형하여 새로운 리스트를 반환\n",
    "    - map(함수,리스트)\n",
    "- reduce: 차례대로 앞 2개의 원소를 가지고 연산\n",
    "     - reduce(함수,리스트)"
   ]
  },
  {
   "cell_type": "markdown",
   "metadata": {},
   "source": [
    "#### filter"
   ]
  },
  {
   "cell_type": "code",
   "execution_count": null,
   "metadata": {},
   "outputs": [],
   "source": [
    "def even(n):\n",
    "    return n%2==0 #반환값 boolean"
   ]
  },
  {
   "cell_type": "code",
   "execution_count": null,
   "metadata": {},
   "outputs": [],
   "source": [
    "nums=[1,2,3,6,8,9]\n",
    "#filter(even,nums) #필터 함수의 반환값은 그냥 필터 객체\n",
    "list(filter(even,nums))\n"
   ]
  },
  {
   "cell_type": "markdown",
   "metadata": {},
   "source": [
    "#### map"
   ]
  },
  {
   "cell_type": "code",
   "execution_count": null,
   "metadata": {},
   "outputs": [],
   "source": [
    "# 주어진 리스트, 리스트의 제곱을 한 숫자로 새로운 리스트\n",
    "\n",
    "nums=[1,2,3,6,8,9]\n",
    "list(map(lambda n:n**2,nums))"
   ]
  },
  {
   "cell_type": "markdown",
   "metadata": {},
   "source": [
    "#### reduce"
   ]
  },
  {
   "cell_type": "code",
   "execution_count": null,
   "metadata": {},
   "outputs": [],
   "source": [
    "import functools\n",
    "\n",
    "a=[1,3,5,8]\n",
    "\n",
    "# 리스트 내의 모든 숫자의 합\n",
    "functools.reduce(lambda x,y:x+y,a)\n",
    "\n",
    "# 리스트 내의 모든 숫자의 곱\n",
    "functools.reduce(lambda x,y:x*y,a)"
   ]
  },
  {
   "cell_type": "markdown",
   "metadata": {},
   "source": [
    "# 23. 함수 연습문제\n",
    "1. 주어진 숫자 리스트의 평균을 구하는 함수를 출력하시오\n",
    "2. 해당 숫자가 소수인지 아닌지 판별하시오.\n",
    "3. 2부터 해당 숫자 사이에 소수가 몇개인지 출력하는 함수를 구하시오"
   ]
  },
  {
   "cell_type": "code",
   "execution_count": null,
   "metadata": {},
   "outputs": [],
   "source": [
    "#1\n",
    "\n",
    "a=[1,2,3,4,5]\n",
    "\n",
    "def mean(nums):\n",
    "    sum=0\n",
    "    for num in nums:\n",
    "        sum+=num\n",
    "    return sum/len(nums)\n",
    "\n",
    "print(mean(a))\n",
    "    "
   ]
  },
  {
   "cell_type": "code",
   "execution_count": null,
   "metadata": {},
   "outputs": [],
   "source": [
    "#2\n",
    "\n",
    "def is_prime(num):\n",
    "    cnt=0\n",
    "    i=1\n",
    "    while i<=num:\n",
    "        if(num%i==0):\n",
    "            cnt+=1\n",
    "        if(cnt>2):\n",
    "            print('소수 아님')\n",
    "            break\n",
    "        i+=1\n",
    "    if(cnt==2):\n",
    "        print('소수임')\n",
    "        \n",
    "    \n",
    "is_prime(7)"
   ]
  },
  {
   "cell_type": "code",
   "execution_count": null,
   "metadata": {},
   "outputs": [],
   "source": [
    "#2 다른 방법\n",
    "\n",
    "def is_prime(num):\n",
    "    for i in range(2,num):\n",
    "        if num%i==0:\n",
    "            return False\n",
    "    return True"
   ]
  },
  {
   "cell_type": "code",
   "execution_count": null,
   "metadata": {},
   "outputs": [],
   "source": [
    "#3\n",
    "\n",
    "def num_prime(num):\n",
    "    count=0\n",
    "    for i in range(2,num+1):\n",
    "        if(is_prime(i)==True):\n",
    "            count+=1\n",
    "    return count\n",
    "\n",
    "print(num_prime(7))\n",
    "            \n"
   ]
  },
  {
   "cell_type": "markdown",
   "metadata": {},
   "source": [
    "***"
   ]
  },
  {
   "cell_type": "markdown",
   "metadata": {},
   "source": [
    "# 24. import\n",
    "\n",
    "- 모듈: 프로그래밍을 할 때 필요한 외부 라이브러리들\n",
    "\n",
    "- requests- HTTP 요청/응답 모듈\n",
    "- numpy- 수치해석 모듈\n",
    "- pandas- 데이터 분석 모듈\n",
    "\n",
    "-모듈 이름 치고 .치고 tab누르면 해당 모듈에서 지원하는 기능들 볼 수 있음"
   ]
  },
  {
   "cell_type": "code",
   "execution_count": null,
   "metadata": {},
   "outputs": [],
   "source": [
    "# 네이버 도메인의 html 데이터를 요청해서 출력\n",
    "\n",
    "import requests\n",
    "\n",
    "resp=requests.get('http://naver.com')\n",
    "resp.text"
   ]
  },
  {
   "cell_type": "code",
   "execution_count": null,
   "metadata": {},
   "outputs": [],
   "source": [
    "import math\n",
    "math.pi"
   ]
  },
  {
   "cell_type": "markdown",
   "metadata": {},
   "source": [
    "### from import\n",
    "- 해당 모듈에서 특정한 타입만 import"
   ]
  },
  {
   "cell_type": "code",
   "execution_count": null,
   "metadata": {},
   "outputs": [],
   "source": [
    "from math import pi\n",
    "pi"
   ]
  },
  {
   "cell_type": "markdown",
   "metadata": {},
   "source": [
    "### as\n",
    "- 모듈 import시, alias(별명) 지정가능"
   ]
  },
  {
   "cell_type": "code",
   "execution_count": null,
   "metadata": {},
   "outputs": [],
   "source": [
    "import math as m\n",
    "m.exp(3)"
   ]
  },
  {
   "cell_type": "markdown",
   "metadata": {},
   "source": [
    "***"
   ]
  },
  {
   "cell_type": "markdown",
   "metadata": {},
   "source": [
    "# 25/26/27/28. 클래스와 인스턴스-생성자"
   ]
  },
  {
   "cell_type": "code",
   "execution_count": null,
   "metadata": {},
   "outputs": [],
   "source": [
    " class Person:\n",
    "        pass"
   ]
  },
  {
   "cell_type": "code",
   "execution_count": null,
   "metadata": {},
   "outputs": [],
   "source": [
    "bob=Person()\n",
    "cathy=Person()\n",
    "\n",
    "print(type(bob))"
   ]
  },
  {
   "cell_type": "markdown",
   "metadata": {},
   "source": [
    "### __init__(self)\n",
    "- 생성자, 클래스 인스턴스가 생성될 때 호출됨\n",
    "- self 인자는 항상 첫번째에 오며 자신을 가리킴\n",
    "- 이름이 꼭 self일 필요는 없지만, 관례적으로 self로 사용\n",
    "- 생성자에서는 해당 클래스가 다루는 데이터를 정의\n",
    "    - 이 데이터를 멤버변수, 속성이라고 함"
   ]
  },
  {
   "cell_type": "code",
   "execution_count": null,
   "metadata": {},
   "outputs": [],
   "source": [
    "class Person:\n",
    "    def __init__(self): #생성자\n",
    "        print(self, 'is generated')\n",
    "        self.name='Kate'\n",
    "        self.age=10\n",
    "        \n",
    "p1=Person() # 객체 생성\n",
    "p2=Person()\n",
    "\n",
    "p1.name='aaron'\n",
    "print(p1.name, p2.name)\n",
    "#각각 다른 메모리에 각각 두가지 객체가 선언이 되어있다."
   ]
  },
  {
   "cell_type": "code",
   "execution_count": null,
   "metadata": {},
   "outputs": [],
   "source": [
    "# 만약 생성자에 매개변수를 설정해주고 싶을 경우\n",
    "\n",
    "class Person:\n",
    "    def __init__(self,name, age=10): #생성자-  쓸 멤버변수 선언\n",
    "        #print(self, 'is generated')\n",
    "        self.name=name\n",
    "        self.age=age\n",
    "        \n",
    "p1=Person('bob',30) # 객체 생성\n",
    "p2=Person('ann',20)\n",
    "p3=Person('Aaron')\n",
    "\n",
    "print(p1.name,p1.age)\n",
    "print(p2.name,p2.age)\n",
    "print(p3.name,p3.age)"
   ]
  },
  {
   "cell_type": "markdown",
   "metadata": {},
   "source": [
    "### self\n",
    "- 파이썬의 method는 항상 첫번째 인자로 self를 전달\n",
    "- self는 현재 해당 메소드가 호출되는 객체 자신을 가리킴\n",
    "- 자바의 this에 해당\n",
    "- 역시, 이름이 self일 필요는 없으나, 위치는 항상 맨 처음의 parameter이며 관례적으로 self로 사용"
   ]
  },
  {
   "cell_type": "code",
   "execution_count": null,
   "metadata": {},
   "outputs": [],
   "source": [
    "class Person:\n",
    "    def __init__(self,name, age=10): #생성자-  쓸 멤버변수 선언\n",
    "        #print(self, 'is generated')\n",
    "        self.name=name\n",
    "        self.age=age\n",
    "        \n",
    "    def sleep(self):\n",
    "        print('self:',self)\n",
    "        print(self.name,'은 잠을 잡니다.')\n",
    "        \n",
    "p1=Person('bob',30) # 객체 생성\n",
    "p2=Person('ann',20)\n",
    "p3=Person('Aaron')\n",
    "\n",
    "p1.sleep()"
   ]
  },
  {
   "cell_type": "markdown",
   "metadata": {},
   "source": [
    "***"
   ]
  },
  {
   "cell_type": "markdown",
   "metadata": {},
   "source": [
    "# 29. 클래스와 인스턴스-메소드"
   ]
  },
  {
   "cell_type": "markdown",
   "metadata": {},
   "source": [
    "### method\n",
    "- 멤버함수\n",
    "- 파이썬의 method는 항상 첫번째 인자로 self를 전달\n",
    "- 해당 클래스의 객체에서만 호출가능\n",
    "- 객체.메소드 형태로 호출"
   ]
  },
  {
   "cell_type": "code",
   "execution_count": null,
   "metadata": {},
   "outputs": [],
   "source": [
    "# 숫자를 하나 증가\n",
    "# 숫자를 0으로 초기화\n",
    "\n",
    "class Counter:\n",
    "    def __init__(self):\n",
    "        self.num=0\n",
    "        \n",
    "    def increment(self):\n",
    "        self.num+=1\n",
    "        \n",
    "    def reset(self):\n",
    "        self.num=0\n",
    "        \n",
    "    def print_value(self):\n",
    "        print('현재값은:',self.num)\n",
    "\n",
    "c1=Counter()\n",
    "c1.num=1\n",
    "c1.increment()\n",
    "c1.print_value()\n",
    "c1.reset()\n",
    "c1.print_value()\n",
    "\n",
    "c2=Counter()\n",
    "c2.num=2\n",
    "c2.print_value()"
   ]
  },
  {
   "cell_type": "markdown",
   "metadata": {},
   "source": [
    "### method type(2가지)\n",
    "- instance method- 객체로 호출\n",
    "- static method- 클래스로 호출"
   ]
  },
  {
   "cell_type": "code",
   "execution_count": null,
   "metadata": {},
   "outputs": [],
   "source": [
    "class Math:\n",
    "    @staticmethod\n",
    "    def add(a,b):\n",
    "        return a+b\n",
    "\n",
    "Math.add(10.20) #객체 선언 없이 메소드 사용 가능"
   ]
  },
  {
   "cell_type": "markdown",
   "metadata": {},
   "source": [
    "***"
   ]
  },
  {
   "cell_type": "markdown",
   "metadata": {},
   "source": [
    "# 30. 클래스와 인스턴스- 상속"
   ]
  },
  {
   "cell_type": "code",
   "execution_count": null,
   "metadata": {},
   "outputs": [],
   "source": [
    "class Person:\n",
    "    def __init__(self, name, age):\n",
    "        self.name=name\n",
    "        self.age=age\n",
    "    def eat(self,food):\n",
    "        print('{}은 {}을 먹습니다.'.format(self.name,food))\n",
    "    def sleep(self, sleep):\n",
    "        print('{}은 {}분동안 잡니다.'.format(self.name,sleep))\n",
    "    def work(self,work):\n",
    "        print('{}은 {}분동안 일합니다.'.format(self.name,work))\n",
    "        \n",
    "class Student(Person):# 상속\n",
    "    pass\n",
    "class Employee(Person):# 상속\n",
    "    pass\n",
    "\n",
    "p1= Student('bob',20)# 학생 객체여도 동작가능\n",
    "p1.eat('bbq')\n",
    "p1.sleep(40)\n",
    "p1.work(60)"
   ]
  },
  {
   "cell_type": "markdown",
   "metadata": {},
   "source": [
    "### method override"
   ]
  },
  {
   "cell_type": "code",
   "execution_count": null,
   "metadata": {},
   "outputs": [],
   "source": [
    "class Person:\n",
    "    def __init__(self, name, age):\n",
    "        self.name=name\n",
    "        self.age=age\n",
    "    def eat(self,food):\n",
    "        print('{}은 {}을 먹습니다.'.format(self.name,food))\n",
    "    def sleep(self, sleep):\n",
    "        print('{}은 {}분동안 잡니다.'.format(self.name,sleep))\n",
    "    def work(self,work):\n",
    "        print('{}은 {}분동안 일합니다.'.format(self.name,work))\n",
    "        \n",
    "class Student(Person):\n",
    "    def work(self,work):# 오버라이드\n",
    "        print('{}은 {}분동안 공부합니다.'.format(self.name,work))\n",
    "        \n",
    "class Employee(Person):\n",
    "    def work(self,work):# 오버라이드\n",
    "        print('{}은 {}분동안 업무합니다.'.format(self.name,work))\n",
    "\n",
    "p1= Student('bob',20\n",
    "p1.eat('bbq')\n",
    "p1.sleep(40)\n",
    "p1.work(60)"
   ]
  },
  {
   "cell_type": "markdown",
   "metadata": {},
   "source": [
    "### super()\n",
    "- 하위 클래스에서 부모클래스의 메소드 호출할 때 사용"
   ]
  },
  {
   "cell_type": "code",
   "execution_count": null,
   "metadata": {},
   "outputs": [],
   "source": [
    "class Person:\n",
    "    def __init__(self, name, age):\n",
    "        self.name=name\n",
    "        self.age=age\n",
    "    def eat(self,food):\n",
    "        print('{}은 {}을 먹습니다.'.format(self.name,food))\n",
    "    def sleep(self, sleep):\n",
    "        print('{}은 {}분동안 잡니다.'.format(self.name,sleep))\n",
    "    def work(self,work):\n",
    "        print('{}은 {}분동안 준비합니다.'.format(self.name,work))\n",
    "        \n",
    "class Student(Person):\n",
    "    def work(self,work):\n",
    "        super().work(work)##########super()\n",
    "        print('{}은 {}분동안 공부합니다.'.format(self.name,work))\n",
    "        \n",
    "class Employee(Person):\n",
    "    def work(self,work):\n",
    "        print('{}은 {}분동안 업무합니다.'.format(self.name,work))\n",
    "\n",
    "p1= Student('bob',20)\n",
    "p1.eat('bbq')\n",
    "p1.sleep(40)\n",
    "p1.work(60)"
   ]
  },
  {
   "cell_type": "markdown",
   "metadata": {},
   "source": [
    "***"
   ]
  },
  {
   "cell_type": "markdown",
   "metadata": {},
   "source": [
    "# 31. 클래스와 인스턴스- 클래스 연산자 재정의 "
   ]
  },
  {
   "cell_type": "code",
   "execution_count": null,
   "metadata": {},
   "outputs": [],
   "source": [
    "# Point\n",
    "# 2차우너 좌표평면 각 점(x,y)\n",
    "# 연산\n",
    "\n",
    "class Point:\n",
    "    def __init__(self,x,y):\n",
    "        self.x=x\n",
    "        self.y=y\n",
    "        \n",
    "    def __str__(self):\n",
    "        return '({},{})'.format(self.x,self.y)\n",
    "    \n",
    "    def add(self,pt):\n",
    "        new_x=self.x+pt.x\n",
    "        new_y=self.y+pt.y\n",
    "        return Point(new_x,new_y)\n",
    "    \n",
    "p1=Point(3,4)\n",
    "p2=Point(2,7)\n",
    "\n",
    "p3=p1.add(p2)\n",
    "\n",
    "print(p1,p2,p3)"
   ]
  },
  {
   "cell_type": "code",
   "execution_count": null,
   "metadata": {},
   "outputs": [],
   "source": [
    "# 두 점의 덧셈, 뺄셈, 곱셈\n",
    "class Point:\n",
    "    def __init__(self,x,y):\n",
    "        self.x=x\n",
    "        self.y=y\n",
    "        \n",
    "    def __str__(self):\n",
    "        return '({},{})'.format(self.x,self.y)\n",
    "    \n",
    "    def __add__(self,pt): ###p1+p2가능\n",
    "        new_x=self.x+pt.x\n",
    "        new_y=self.y+pt.y\n",
    "        return Point(new_x,new_y)\n",
    "    \n",
    "    def __sub__(self,pt): ###p1-p2가능\n",
    "        new_x=self.x-pt.x\n",
    "        new_y=self.y-pt.y\n",
    "        return Point(new_x,new_y)\n",
    "    \n",
    "    def __mul__(self, factor):\n",
    "        return Point(self.x*factor,self.y*factor)\n",
    "    \n",
    "p1=Point(3,4)\n",
    "p2=Point(2,7)\n",
    "\n",
    "#p3=p1.add(p2)\n",
    "p3=p1+p2\n",
    "p4=p1-p2\n",
    "\n",
    "p5=p1*3\n",
    "\n",
    "print(p1,p2,p3,p4,p5)"
   ]
  },
  {
   "cell_type": "markdown",
   "metadata": {},
   "source": [
    "***"
   ]
  },
  {
   "cell_type": "markdown",
   "metadata": {},
   "source": [
    "# 32. 클래스와 인스턴스 연습문제\n",
    "- 복소수 클래스를 정의 해봅시다.\n",
    "- 덧셈, 뺄셈, 곱셈 연산자 지원\n",
    "- 길이 (복소수의 크기) 지원\n",
    "- 복소수 출력 '1+4j'와 같이 표현\n",
    "- 비교 연산 ==, != 지원\n",
    "- =,<=,<,> 연산 지원\n",
    "- 절대값 지원"
   ]
  },
  {
   "cell_type": "code",
   "execution_count": null,
   "metadata": {},
   "outputs": [],
   "source": [
    "import math\n",
    "\n",
    "class Complex:\n",
    "    def __init__(self,a,b):\n",
    "        self.a=a\n",
    "        self.b=b\n",
    "        \n",
    "    def __str__(self):\n",
    "        return '{}+{}j'.format(self.a,self.b)\n",
    "        \n",
    "    def __add__(self,complex):\n",
    "        new_a=self.a+complex.a\n",
    "        new_b=self.b+complex.b\n",
    "        return Complex(new_a,new_b)\n",
    "    \n",
    "    def __sub__(self,complex):\n",
    "        new_a=self.a-complex.a\n",
    "        new_b=self.b-complex.b\n",
    "        return Complex(new_a,new_b)\n",
    "    \n",
    "    def __mul__(self,complex):\n",
    "        new_a=self.a*complex.a-self.b*complex.b\n",
    "        new_b=self.a*complex.b+self.b*complex.a\n",
    "        return Complex(new_a,new_b)\n",
    "    \n",
    "    def prime_len(self):\n",
    "        return self.a**2+self.b**2\n",
    "\n",
    "    def __eq__(self,complex):\n",
    "        return self.a==complex.a and self.img==cn.img\n",
    "    \n",
    "    def __ne__(self,complex):\n",
    "        return not(self.a==complex.a and self.img==cn.img)\n",
    "    \n",
    "    #절대값\n",
    "    def __abs__(self):\n",
    "        return math.sqrt(self.a**2+self.b**2)\n",
    "    \n",
    "c1=Complex(1,1)\n",
    "c2=Complex(2,2)\n",
    "\n",
    "abs(c1)\n",
    "\n"
   ]
  },
  {
   "cell_type": "markdown",
   "metadata": {},
   "source": [
    "***"
   ]
  },
  {
   "cell_type": "markdown",
   "metadata": {},
   "source": [
    "# 33/34/35. 정규표현식\n",
    "- 특정한 패턴과 일치하는 문자열을 '검색', '치환', '제거' 하는 기능을 지원\n",
    "- ex) 이메일 형식 판별, 전화번호 형식 판별, 숫자로만 이루어진 문자열 등"
   ]
  },
  {
   "cell_type": "markdown",
   "metadata": {},
   "source": [
    "- raw string\n",
    "    - 문자열 앞에 r이 붙으면 해당 문자열이 구성된 그대로 문자열로 변환"
   ]
  },
  {
   "cell_type": "code",
   "execution_count": null,
   "metadata": {},
   "outputs": [],
   "source": [
    "a='abcdef\\n' #escape문자열\n",
    "print(a)\n",
    "\n",
    "b=r'abcdef\\n'\n",
    "print(b)"
   ]
  },
  {
   "cell_type": "markdown",
   "metadata": {},
   "source": [
    "### search method\n",
    "- 첫번째로 패턴을 찾으면 match 객체를 반환\n",
    "- 패턴을 찾지 못하면 None을 반환\n",
    "- **parameter 2개**- 찾을 정규표현식, 전체 문자열"
   ]
  },
  {
   "cell_type": "markdown",
   "metadata": {},
   "source": [
    "**기본 패턴**\n",
    "- a,X,9등등 문자 하나하나의 charater들은 정확히 해당 문자와 일치\n",
    "- .(마침표): 어떤 한개의 character와 일치\n",
    "- \\w: 문자 character와 일치\n",
    "- \\d: 숫자 character과 일치\n",
    "- \\s: 공백문자와 일치\n",
    "- \\t, \\n, \\r:tab, newline, return\n",
    "- ^= 시작, $= 끝 각각 문자열의 시작과 끝을 의미\n",
    "- \\가 붙으면 스페셜한 의미가 없어짐"
   ]
  },
  {
   "cell_type": "code",
   "execution_count": null,
   "metadata": {},
   "outputs": [],
   "source": [
    "import re"
   ]
  },
  {
   "cell_type": "code",
   "execution_count": null,
   "metadata": {},
   "outputs": [],
   "source": [
    "# 해당 문자열 존재 할 때\n",
    "\n",
    "m=re.search(r'abc','123abcdef')\n",
    "type(m)\n",
    "\n",
    "#해당 문자열에서 해당 패턴이 검색된 위치 표현\n",
    "print(m.start())\n",
    "print(m.end())\n",
    "\n",
    "\n",
    "print(m.group())\n"
   ]
  },
  {
   "cell_type": "code",
   "execution_count": null,
   "metadata": {},
   "outputs": [],
   "source": [
    "# 해당 문자열 존재 안 할 때\n",
    "\n",
    "m=re.search(r'abc','123abdef')\n",
    "type(m)\n"
   ]
  },
  {
   "cell_type": "code",
   "execution_count": null,
   "metadata": {},
   "outputs": [],
   "source": [
    "# 숫자 두개가 나란히 있나 궁금할 떄- 가장 처음 찾는 패턴을 찾음\n",
    "\n",
    "m=re.search(r'\\d\\d','112abcdef119')\n",
    "m"
   ]
  },
  {
   "cell_type": "code",
   "execution_count": null,
   "metadata": {},
   "outputs": [],
   "source": [
    "m=re.search(r'\\d\\d\\d\\w','112abcdef119')\n",
    "type(m)"
   ]
  },
  {
   "cell_type": "code",
   "execution_count": null,
   "metadata": {},
   "outputs": [],
   "source": [
    "m=re.search(r'..\\w\\w','@#$ABCDabcd')\n",
    "m"
   ]
  },
  {
   "cell_type": "markdown",
   "metadata": {},
   "source": [
    "**[] 문자들의 범위를 나타내기 위해 사용**\n",
    "- []내부의 메타 캐릭터는 캐릭터 자체를 나타냄\n",
    "- ex) \n",
    "- [abck]: a or b or c or k\n",
    "- [abc.^]: a or b or c or . or ^\n",
    "- [a-d]: -와 함께 사용되면 해당 문자 사이의 범위에 속하는 문자 중 하나\n",
    "- [0-9]: 모든 숫자\n",
    "- [a-z]: 모든 소문자\n",
    "- [A-Z]: 모든 대문자\n",
    "- [a-zA-Z0-9]: 모든 알파벳 문자 및 숫자\n",
    "- [^0-9]: ^가 맨 앞에 사용 되는 경우 해당 문자 패턴이 아닌 것과 매칭"
   ]
  },
  {
   "cell_type": "code",
   "execution_count": null,
   "metadata": {},
   "outputs": [],
   "source": [
    "re.search(r'[cbm]at','cat')"
   ]
  },
  {
   "cell_type": "code",
   "execution_count": null,
   "metadata": {},
   "outputs": [],
   "source": [
    "re.search(r'[0-9]haha','7hahah')"
   ]
  },
  {
   "cell_type": "code",
   "execution_count": null,
   "metadata": {},
   "outputs": [],
   "source": [
    "re.search(r'[abc.^]aron','.aron')"
   ]
  },
  {
   "cell_type": "code",
   "execution_count": null,
   "metadata": {},
   "outputs": [],
   "source": [
    "re.search(r'[^abc]aron','#aron')\n",
    "#abc만 아니면 됨"
   ]
  },
  {
   "cell_type": "markdown",
   "metadata": {},
   "source": [
    "**\\**\n",
    "1. 다른 문자와 함께 사용되어 특수한 의미를 지님\n",
    "    - \\d: 숫자 [0-9]와 동일\n",
    "    - \\D: [^0-9]와 동일\n",
    "    - \\s: 공백 문자\n",
    "    - \\S: 공백이 아닌 문자\n",
    "    - \\w: [a-zA-Z0-9]\n",
    "    - \\W: [^a-zA-Z0-9]\n",
    "    \n",
    "2. 메타 캐릭터가 캐릭터 자체를 표현하도록 할 경우 사용\n",
    "    - \\\\\\.,\\\\\\\\"
   ]
  },
  {
   "cell_type": "code",
   "execution_count": null,
   "metadata": {},
   "outputs": [],
   "source": [
    "re.search(r'\\sand','apple and banana')"
   ]
  },
  {
   "cell_type": "code",
   "execution_count": null,
   "metadata": {},
   "outputs": [],
   "source": [
    "print(re.search(r'.and','cand')) #.특수 경우- 어떤 character든\n",
    "\n",
    "print(re.search(r'\\.and','cand')) # .그대로 문자"
   ]
  },
  {
   "cell_type": "code",
   "execution_count": null,
   "metadata": {},
   "outputs": [],
   "source": [
    "import re\n",
    "re.search(r'\\s','hello world')"
   ]
  },
  {
   "cell_type": "markdown",
   "metadata": {},
   "source": [
    "**.**\n",
    "- 모든 문자를 의미\n"
   ]
  },
  {
   "cell_type": "code",
   "execution_count": null,
   "metadata": {},
   "outputs": [],
   "source": [
    "print(re.search(r'p.g','pig'))"
   ]
  },
  {
   "cell_type": "markdown",
   "metadata": {},
   "source": [
    "**반복패턴**\n",
    "- 패턴 뒤에 위치하는 *,+,?는 해당 패턴이 반복적으로 존재하는지 검사\n",
    "    - '+'-> 1번 이상의 패턴이 발생\n",
    "    - '*'-> 0번 이상의 패턴이 발생\n",
    "    - '?'-> 0혹은 1번의 패턴이 발생\n",
    "- 반복 패턴의 경우 greedy하게 검색함, 즉 가능한 많은 부분이 매칭되도록 함\n",
    "    - e.g) a[bcd]*b 패턴을 abcbdccb 에서 검색하는 경우\n",
    "        - ab,abcb,abcbdccb전부 가능 하지만 최대한 많은 부분이 매칭된 abcbdccb가 검색된 패턴\n",
    "        "
   ]
  },
  {
   "cell_type": "code",
   "execution_count": null,
   "metadata": {},
   "outputs": [],
   "source": [
    " re.search(r'a[bcd]*b','abcbdccb')\n",
    "    #최대한 많은 부분이 매칭된 abcbdccb가 검색된 패턴\n"
   ]
  },
  {
   "cell_type": "code",
   "execution_count": null,
   "metadata": {},
   "outputs": [],
   "source": [
    "re.search(r'b\\w+a','banana')\n",
    "#b로 시작하고 어떤 문자가 1번 이상 반복된 후 a로 끝나는 문자열을 찾는다."
   ]
  },
  {
   "cell_type": "code",
   "execution_count": null,
   "metadata": {},
   "outputs": [],
   "source": [
    "re.search(r'i+','piigiii')"
   ]
  },
  {
   "cell_type": "code",
   "execution_count": null,
   "metadata": {},
   "outputs": [],
   "source": [
    "re.search(r'pi+g','pg')"
   ]
  },
  {
   "cell_type": "code",
   "execution_count": null,
   "metadata": {},
   "outputs": [],
   "source": [
    "re.search(r'pi*g','pg')"
   ]
  },
  {
   "cell_type": "code",
   "execution_count": null,
   "metadata": {},
   "outputs": [],
   "source": [
    "re.search(r'https?','https://www.naver.com')\n",
    "#http있고 s는 없어도 검출 있어도 검출\n",
    "# ?는 s에만 적용"
   ]
  },
  {
   "cell_type": "code",
   "execution_count": null,
   "metadata": {},
   "outputs": [],
   "source": []
  },
  {
   "cell_type": "markdown",
   "metadata": {},
   "source": [
    "#### ^\\*, \\*\\$\n",
    "- 문자열의 맨 앞부터 일치하는 경우 검색\n",
    "- $문자열의 맨 뒤부터 일치하는 경우 검색"
   ]
  },
  {
   "cell_type": "code",
   "execution_count": null,
   "metadata": {},
   "outputs": [],
   "source": [
    "re.search(r'b\\w+a','cabana')"
   ]
  },
  {
   "cell_type": "code",
   "execution_count": null,
   "metadata": {},
   "outputs": [],
   "source": [
    "re.search(r'^b\\w+a','cabana')\n",
    "#문자열이 c부터 시작하기 떄문에 검출 안됨"
   ]
  },
  {
   "cell_type": "code",
   "execution_count": null,
   "metadata": {},
   "outputs": [],
   "source": [
    "re.search(r'^b\\w+a','babana')"
   ]
  },
  {
   "cell_type": "code",
   "execution_count": null,
   "metadata": {},
   "outputs": [],
   "source": [
    "re.search(r'b\\w+a$','cabana')"
   ]
  },
  {
   "cell_type": "code",
   "execution_count": null,
   "metadata": {},
   "outputs": [],
   "source": [
    "re.search(r'b\\w+a$','cabanap')\n",
    "#문자열이 a로 안끝나기 때문에 검출 안됨"
   ]
  },
  {
   "cell_type": "markdown",
   "metadata": {},
   "source": [
    "#### grouping\n",
    "- ()을 사용하여 그루핑\n",
    "- 매칭 결과를 각 그룹별로 분리 가능\n",
    "- 패턴 명시 할 때, 각 그룹을 괄호()안에 넣어 분리하여 사용\n"
   ]
  },
  {
   "cell_type": "code",
   "execution_count": null,
   "metadata": {},
   "outputs": [],
   "source": [
    "m=re.search(r'(\\w+)@(.+)','test@gmail.com')\n",
    "print(m.group(1))#그룹 1번 부터 시작\n",
    "print(m.group(2))\n",
    "\n",
    "print(m.group(0)) #그룹의 0번 같은 경우 그냥 기본값임"
   ]
  },
  {
   "cell_type": "markdown",
   "metadata": {},
   "source": [
    "#### {}\n",
    "- *,+,?을 사용하여 반복적인 패턴을 찾는 것이 가능하나, 반복의 횟수 제한은 불가\n",
    "- 패턴 뒤에 위치하는 중괄호{}에 숫자를 명시하면 해당 숫자만큼의 반복인 경우에만 매칭\n",
    "- {4} - 4번 반복\n",
    "- {3,4}- 3~4번 반복- 이경우 에도 최대한 greedy하게 검출"
   ]
  },
  {
   "cell_type": "code",
   "execution_count": null,
   "metadata": {},
   "outputs": [],
   "source": [
    "re.search('pi+g','piiig')"
   ]
  },
  {
   "cell_type": "code",
   "execution_count": null,
   "metadata": {},
   "outputs": [],
   "source": [
    "re.search('pi{3}g','piiig')"
   ]
  },
  {
   "cell_type": "code",
   "execution_count": null,
   "metadata": {},
   "outputs": [],
   "source": [
    "re.search('pi{3}g','piiiig')\n",
    "#i가 정확히 3번만 와야지 matching됨"
   ]
  },
  {
   "cell_type": "code",
   "execution_count": null,
   "metadata": {},
   "outputs": [],
   "source": [
    "re.search('pi{3,5}g','piiiig')\n",
    "#최소 3번에서 최대 5번"
   ]
  },
  {
   "cell_type": "markdown",
   "metadata": {},
   "source": [
    "#### 미니멈 매칭(none-greedy way)\n",
    "- 기본적으로 *,+,?를 사용하면 greedy하게 동작함\n",
    "- *?,+?,{}?을 이용하여 해당 기능을 구현"
   ]
  },
  {
   "cell_type": "code",
   "execution_count": null,
   "metadata": {},
   "outputs": [],
   "source": [
    "re.search(r'<.+>','<html>haha</html>')"
   ]
  },
  {
   "cell_type": "code",
   "execution_count": null,
   "metadata": {},
   "outputs": [],
   "source": [
    "re.search(r'<.+?>','<html>haha</html>')"
   ]
  },
  {
   "cell_type": "code",
   "execution_count": null,
   "metadata": {},
   "outputs": [],
   "source": [
    "re.search(r'a{3,5}?','aaaaa')\n",
    "#앞의 3개만 검출"
   ]
  },
  {
   "cell_type": "markdown",
   "metadata": {},
   "source": [
    "### match method\n",
    "- search와 유사하나, 주어진 문자열의 시작부터 비교하여 패턴이 있는지 확인\n",
    "- 시작부터 해당 패턴이 존재하지 않다면 None 반환"
   ]
  },
  {
   "cell_type": "code",
   "execution_count": null,
   "metadata": {},
   "outputs": [],
   "source": [
    "re.match(r'\\d\\d\\d','my number is 123')\n",
    "#search함수라면 반환 가능했을것임"
   ]
  },
  {
   "cell_type": "code",
   "execution_count": null,
   "metadata": {},
   "outputs": [],
   "source": [
    "re.match(r'\\d\\d\\d','123 is my number')"
   ]
  },
  {
   "cell_type": "code",
   "execution_count": null,
   "metadata": {},
   "outputs": [],
   "source": [
    "# search함수의 ^와 동일한 기능 수행함\n",
    "re.search(r'^\\d\\d\\d','123 is my number')"
   ]
  },
  {
   "cell_type": "markdown",
   "metadata": {},
   "source": [
    "### findall method\n",
    "- search가 최초로 매칭되는 패턴만 반환한다면, findall은 매칭되는 전체의 패턴을 반환\n",
    "- 매칭되는 모든 결과를 **리스트 형태**로 반환"
   ]
  },
  {
   "cell_type": "code",
   "execution_count": null,
   "metadata": {},
   "outputs": [],
   "source": [
    "re.findall(r'[\\w.]+@[\\w.]+','test@gmail.com haha test2@gmailcom nice test')"
   ]
  },
  {
   "cell_type": "markdown",
   "metadata": {},
   "source": [
    "### sub method\n",
    "- 주어진 문자열에서 일치하는 모든 패턴을 replace\n",
    "- 그 결과를 문자열로 다시 반환함\n",
    "- 두 번쨰 인자는 특정 문자열이 될 수도 있고, 함수가 될 수도 있음\n",
    "- count가 0인 경우는 전체를, 1 이상이면 해당 숫자만큼 치환 됨\n",
    "- 매개변수 3개임\n",
    "- 문자열에서 첫번째 문자열 찾고 두번째 문자열로 치환"
   ]
  },
  {
   "cell_type": "code",
   "execution_count": null,
   "metadata": {},
   "outputs": [],
   "source": [
    "re.sub(r'[\\w.]+@[\\w.]+','great','test@gmail.com haha test2@gmailcom nice test')"
   ]
  },
  {
   "cell_type": "code",
   "execution_count": null,
   "metadata": {},
   "outputs": [],
   "source": [
    "re.sub(r'[\\w.]+@[\\w.]+','great','test@gmail.com haha test2@gmailcom nice test',count=1)"
   ]
  },
  {
   "cell_type": "markdown",
   "metadata": {},
   "source": [
    "### compile method\n",
    "- 동일한 정규표현식을 매번 다시 쓰기 번거로움을 해결\n",
    "- compile로 해당 표현식을 re.RegexObject객체로 저장하여 사용 가능"
   ]
  },
  {
   "cell_type": "code",
   "execution_count": null,
   "metadata": {},
   "outputs": [],
   "source": [
    "email_reg=re.compile(r'[\\w.]+@[\\w.]+')"
   ]
  },
  {
   "cell_type": "code",
   "execution_count": null,
   "metadata": {},
   "outputs": [],
   "source": [
    "email_reg.search('test@gmail.com. haha good')"
   ]
  },
  {
   "cell_type": "markdown",
   "metadata": {},
   "source": [
    "# 36. 정규표현식 연습문제\n",
    "- 아래 뉴스에서 이메일 주소를 추출해 보세요\n",
    "- 다음중 올바른 (http,https)웹페이지만 찾으시오"
   ]
  },
  {
   "cell_type": "code",
   "execution_count": null,
   "metadata": {
    "scrolled": true
   },
   "outputs": [],
   "source": [
    "import requests\n",
    "from bs4 import BeautifulSoup\n",
    "# 위의 두 모듈이 없는 경우에는 pip install requests bs4실행\n",
    "\n",
    "def get_news_contents(url):\n",
    "    response= requests.get(url)\n",
    "    \n",
    "    \n",
    "    \n",
    "    content= response.text\n",
    "    \n",
    "    soup=BeautifulSoup(content,'html5lib')\n",
    "    \n",
    "    div=soup.find('div',attrs={'id':'harmonyContainer'})\n",
    "    \n",
    "    content=''\n",
    "    for paragraph in div.find_all('p'):\n",
    "        content += paragraph.get_text()\n",
    "        \n",
    "    return content\n",
    "\n",
    "news1=get_news_contents('https://news.v.daum.net/v/20190617073049838')\n",
    "print(news1)\n"
   ]
  },
  {
   "cell_type": "code",
   "execution_count": null,
   "metadata": {},
   "outputs": [],
   "source": [
    "email_reg=re.compile(r'[\\w-]+@[\\w.]+\\w')\n",
    "email_reg.search(news1)"
   ]
  },
  {
   "cell_type": "code",
   "execution_count": null,
   "metadata": {},
   "outputs": [],
   "source": [
    "webs=['http://www.test.co.kr',\n",
    "     'https://www.test1.com',\n",
    "     'httpL//www.test.com',\n",
    "     'ftp://www.test.com',\n",
    "      'http:://www.test.com',\n",
    "     'htp://www.test.com'\n",
    "     'http://www.google.com',\n",
    "     'https://www,homepage,com.']"
   ]
  },
  {
   "cell_type": "code",
   "execution_count": null,
   "metadata": {},
   "outputs": [],
   "source": [
    "#sol1\n",
    "for add in webs:\n",
    "    m=re.search(r'https?://www\\..+',add)\n"
   ]
  },
  {
   "cell_type": "code",
   "execution_count": null,
   "metadata": {},
   "outputs": [],
   "source": [
    "#sol2\n",
    "web_reg=re.compile(r'https?://[\\w.]+\\w+$')\n",
    "list(map(lambda w:web_reg.search(w)!=None,webs))\n",
    "            "
   ]
  },
  {
   "cell_type": "code",
   "execution_count": null,
   "metadata": {},
   "outputs": [],
   "source": []
  }
 ],
 "metadata": {
  "kernelspec": {
   "display_name": "Python 3",
   "language": "python",
   "name": "python3"
  },
  "language_info": {
   "codemirror_mode": {
    "name": "ipython",
    "version": 3
   },
   "file_extension": ".py",
   "mimetype": "text/x-python",
   "name": "python",
   "nbconvert_exporter": "python",
   "pygments_lexer": "ipython3",
   "version": "3.7.6"
  }
 },
 "nbformat": 4,
 "nbformat_minor": 4
}
